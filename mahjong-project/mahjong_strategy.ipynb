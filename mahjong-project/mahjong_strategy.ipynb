{
 "cells": [
  {
   "cell_type": "code",
   "execution_count": 3,
   "id": "a3e5b769-ef7c-4d98-b41d-2fa440f35dfb",
   "metadata": {},
   "outputs": [
    {
     "name": "stdout",
     "output_type": "stream",
     "text": [
      "4 Shanten\n",
      "\n",
      "Discard 🀙, Draw 🀇 🀈 🀉 🀊 🀋 🀌 🀍 🀎 🀏 🀚 🀛 🀜 🀝 🀞 🀟 🀠 🀡 🀔 🀖 🀗 🀘 🀁, Possible ways to win:77\n",
      "\n",
      "Discard 🀁, Draw 🀇 🀈 🀉 🀊 🀋 🀌 🀍 🀎 🀏 🀙 🀚 🀛 🀜 🀝 🀞 🀟 🀠 🀡 🀔 🀖 🀗 🀘, Possible ways to win:77\n",
      "\n",
      "Discard 🀜, Draw 🀇 🀈 🀉 🀊 🀋 🀌 🀍 🀎 🀏 🀙 🀚 🀛 🀝 🀠 🀡 🀔 🀖 🀗 🀘 🀁, Possible ways to win:71\n",
      "\n",
      "Discard 🀏, Draw 🀇 🀈 🀉 🀊 🀋 🀌 🀙 🀚 🀛 🀜 🀝 🀞 🀟 🀠 🀡 🀔 🀖 🀗 🀘 🀁, Possible ways to win:69\n",
      "\n",
      "Discard 🀘, Draw 🀇 🀈 🀉 🀊 🀋 🀌 🀍 🀎 🀏 🀙 🀚 🀛 🀜 🀝 🀞 🀟 🀠 🀡 🀔 🀁, Possible ways to win:69\n",
      "\n",
      "Discard 🀟, Draw 🀇 🀈 🀉 🀊 🀋 🀌 🀍 🀎 🀏 🀙 🀚 🀛 🀝 🀡 🀔 🀖 🀗 🀘 🀁, Possible ways to win:67\n",
      "\n",
      "Discard 🀇, Draw 🀉 🀍 🀎 🀏 🀙 🀚 🀛 🀜 🀝 🀞 🀟 🀠 🀡 🀔 🀖 🀗 🀘 🀁, Possible ways to win:63\n",
      "\n",
      "Discard 🀊, Draw 🀉 🀍 🀎 🀏 🀙 🀚 🀛 🀜 🀝 🀞 🀟 🀠 🀡 🀔 🀖 🀗 🀘 🀁, Possible ways to win:63\n",
      "\n",
      "Discard 🀡, Draw 🀇 🀉 🀊 🀏 🀙 🀝 🀠 🀔 🀘 🀁, Possible ways to win:34\n",
      "\n"
     ]
    }
   ],
   "source": [
    "from mahjong.shanten import Shanten\n",
    "from mahjong.tile import TilesConverter\n",
    "\n",
    "def convert_from_int(num):\n",
    "    if num < 9:\n",
    "        man = ['🀇', '🀈', '🀉', '🀊', '🀋', '🀌', '🀍', '🀎', '🀏']\n",
    "        return man[num]\n",
    "    if num < 18:\n",
    "        pin = ['🀙', '🀚', '🀛', '🀜', '🀝', '🀞', '🀟', '🀠', '🀡']\n",
    "        return pin[num - 9]\n",
    "    if num < 27:\n",
    "        sou = ['🀐', '🀑', '🀒', '🀓', '🀔', '🀕', '🀖', '🀗', '🀘']\n",
    "        return sou[num - 18]\n",
    "    honor = ['🀀', '🀁', '🀂', '🀃', '🀆', '🀅', '🀄']\n",
    "    return honor[num - 27]\n",
    "\n",
    "def calculate(hand):\n",
    "    shanten = Shanten()\n",
    "    tiles = TilesConverter.one_line_string_to_34_array(hand)\n",
    "    result = shanten.calculate_shanten(tiles)\n",
    "\n",
    "    print(\"{} Shanten\\n\".format(result))\n",
    "\n",
    "    resultList = []\n",
    "\n",
    "    for i in range(34):\n",
    "        if tiles[i] == 0:\n",
    "            continue\n",
    "        newtitles = tiles[:]\n",
    "        newtitles[i] -= 1\n",
    "        wait = []\n",
    "        total = 0\n",
    "        for j in range(34):\n",
    "            if j == i:\n",
    "                continue\n",
    "            if newtitles[j] == 4:\n",
    "                continue\n",
    "            available = 4 - newtitles[j]\n",
    "            newtitles[j] += 1\n",
    "            tempResult = shanten.calculate_shanten(newtitles)\n",
    "            newtitles[j] -= 1\n",
    "            if tempResult < result:\n",
    "                total += available\n",
    "                wait.append(convert_from_int(j))\n",
    "        if wait != []:\n",
    "            resultList.append((-total, i, convert_from_int(i), wait))\n",
    "\n",
    "    resultList.sort()\n",
    "\n",
    "    for res in resultList:\n",
    "        print(\"Discard {}, Draw {}, Possible ways to win:{}\\n\".format(res[2], \" \".join(res[3]), -res[0]))\n",
    "\n",
    "\n",
    "calculate(\"1249m146799p469s2z\")\n"
   ]
  },
  {
   "cell_type": "code",
   "execution_count": 3,
   "id": "bfc29e66-d307-4e18-ab1d-e7066c531a0c",
   "metadata": {},
   "outputs": [
    {
     "name": "stdout",
     "output_type": "stream",
     "text": [
      "3向听\n",
      "\n",
      "打🀏, 求🀇 🀉 🀝 🀠 🀡 🀔, 枚数:20\n",
      "\n",
      "打🀜, 求🀇 🀉 🀝 🀠 🀡 🀔, 枚数:20\n",
      "\n",
      "打🀘, 求🀇 🀉 🀝 🀠 🀡 🀔, 枚数:20\n",
      "\n",
      "打🀁, 求🀇 🀉 🀝 🀠 🀡 🀔, 枚数:20\n",
      "\n",
      "打🀟, 求🀇 🀉 🀝 🀡 🀔, 枚数:16\n",
      "\n",
      "打🀡, 求🀉 🀝 🀠 🀔, 枚数:16\n",
      "\n"
     ]
    }
   ],
   "source": [
    "calculate(\"1249m46799p469s2z1m\")"
   ]
  },
  {
   "cell_type": "code",
   "execution_count": null,
   "id": "5e21e00d-88bb-4c91-916b-96e28e2f34ee",
   "metadata": {},
   "outputs": [],
   "source": [
    "calculate(\"1249m46799p469s2z1m\")"
   ]
  }
 ],
 "metadata": {
  "kernelspec": {
   "display_name": "Python 3 (ipykernel)",
   "language": "python",
   "name": "python3"
  },
  "language_info": {
   "codemirror_mode": {
    "name": "ipython",
    "version": 3
   },
   "file_extension": ".py",
   "mimetype": "text/x-python",
   "name": "python",
   "nbconvert_exporter": "python",
   "pygments_lexer": "ipython3",
   "version": "3.12.1"
  }
 },
 "nbformat": 4,
 "nbformat_minor": 5
}
